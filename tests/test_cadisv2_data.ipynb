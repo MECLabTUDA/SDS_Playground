{
 "cells": [
  {
   "cell_type": "code",
   "execution_count": null,
   "id": "c1a493d807734b37",
   "metadata": {
    "collapsed": false
   },
   "outputs": [],
   "source": [
    "import cv2\n",
    "import albumentations as A\n",
    "import matplotlib.pyplot as plt\n",
    "import torch\n",
    "import torch.nn.functional as F\n",
    "from torch.utils.data import DataLoader\n",
    "\n",
    "from sds_playground.datasets import CaDISv2_Dataset\n",
    "from sds_playground.utils import denormalize, convert_mask_to_RGB, convert_to_binary_mask, convert_to_integer_mask"
   ]
  },
  {
   "cell_type": "code",
   "execution_count": null,
   "outputs": [],
   "source": [
    "train_ds = CaDISv2_Dataset(\n",
    "    root='/local/scratch/CaDISv2/',\n",
    "    spatial_transform=A.Compose([\n",
    "        A.Resize(128, 128, interpolation=cv2.INTER_LINEAR)\n",
    "    ]),\n",
    "    img_normalization=A.Normalize(.5, .5),\n",
    "    exp=2,\n",
    "    mode='train',\n",
    "    filter_mislabeled=True,\n",
    "    sample_mask=True,\n",
    "    sample_img=True\n",
    ")\n",
    "train_dl = DataLoader(train_ds, shuffle=True, batch_size=1)"
   ],
   "metadata": {
    "collapsed": false
   },
   "id": "8a493b90f1825ea3"
  },
  {
   "cell_type": "code",
   "execution_count": null,
   "outputs": [],
   "source": [
    "len(train_ds)"
   ],
   "metadata": {
    "collapsed": false
   },
   "id": "8548fff40496f00f"
  },
  {
   "cell_type": "code",
   "execution_count": null,
   "outputs": [],
   "source": [
    "for img, mask, _, _ in train_dl:\n",
    "    print(torch.unique(mask))"
   ],
   "metadata": {
    "collapsed": false
   },
   "id": "84e0a9ed19214c3c"
  },
  {
   "cell_type": "code",
   "execution_count": null,
   "outputs": [],
   "source": [
    "val_ds = CaDISv2_Dataset(\n",
    "    root='/local/scratch/CaDISv2/',\n",
    "    spatial_transform=A.Compose([\n",
    "        A.Resize(128, 128, interpolation=cv2.INTER_LINEAR)\n",
    "    ]),\n",
    "    img_normalization=A.Normalize(.5, .5),\n",
    "    exp=2,\n",
    "    mode='val',\n",
    "    filter_mislabeled=True,\n",
    "    sample_mask=True,\n",
    "    sample_img=True\n",
    ")\n",
    "val_dl = DataLoader(val_ds, shuffle=True, batch_size=16)"
   ],
   "metadata": {
    "collapsed": false
   },
   "id": "ae103b161fd457bd"
  },
  {
   "cell_type": "code",
   "execution_count": null,
   "outputs": [],
   "source": [
    "test_ds = CaDISv2_Dataset(\n",
    "    root='/local/scratch/CaDISv2/',\n",
    "    spatial_transform=A.Compose([\n",
    "        A.Resize(128, 128, interpolation=cv2.INTER_LINEAR)\n",
    "    ]),\n",
    "    img_normalization=A.Normalize(.5, .5),\n",
    "    exp=2,\n",
    "    mode='test',\n",
    "    filter_mislabeled=True,\n",
    "    sample_mask=True,\n",
    "    sample_img=True\n",
    ")\n",
    "test_dl = DataLoader(test_ds, shuffle=True, batch_size=16)"
   ],
   "metadata": {
    "collapsed": false
   },
   "id": "b5b36ed157643403"
  },
  {
   "cell_type": "code",
   "execution_count": null,
   "outputs": [],
   "source": [
    "print(\"Total: \", len(train_ds) + len(test_ds) + len(val_ds))\n",
    "print(\"Train: \", len(train_ds))\n",
    "print(\"Val: \", len(val_ds))\n",
    "print(\"Test: \", len(test_ds))"
   ],
   "metadata": {
    "collapsed": false
   },
   "id": "13a0dc2ac075539d"
  },
  {
   "cell_type": "code",
   "execution_count": null,
   "outputs": [],
   "source": [
    "img, int_mask, name, label = next(iter(train_dl))"
   ],
   "metadata": {
    "collapsed": false
   },
   "id": "540d835bb3fde118"
  },
  {
   "cell_type": "code",
   "execution_count": null,
   "outputs": [],
   "source": [
    "print(f\"{int_mask.max()=}\")\n",
    "print(f\"{int_mask.min()=}\")\n",
    "print(f\"{train_ds.num_classes=}\")"
   ],
   "metadata": {
    "collapsed": false
   },
   "id": "119d11372b6c0a24"
  },
  {
   "cell_type": "code",
   "execution_count": null,
   "outputs": [],
   "source": [
    "fig, ax = plt.subplots(2, img.shape[0], figsize=(img.shape[0] * 3, 2 * 3))\n",
    "_img = F.interpolate(img, train_ds.original_shape[1:], mode='bilinear')\n",
    "_mask = F.interpolate(int_mask.unsqueeze(1).float(), train_ds.original_shape[1:], mode='nearest')\n",
    "_mask = _mask.round().squeeze(1).long()\n",
    "_mask_rgb = convert_mask_to_RGB(_mask, train_ds.get_cmap(), ignore_index=train_ds.ignore_index)\n",
    "for n in range(img.shape[0]):\n",
    "    ax[0, n].imshow(denormalize(_img[n], .5, .5).permute(1, 2, 0).cpu().numpy())\n",
    "    ax[0, n].axis('off')\n",
    "    ax[1, n].imshow(_mask_rgb[n].permute(1, 2, 0).cpu().numpy())\n",
    "    ax[1, n].axis('off')\n",
    "plt.tight_layout()\n",
    "plt.autoscale()\n",
    "plt.show()"
   ],
   "metadata": {
    "collapsed": false
   },
   "id": "15cdb729a8112fcf"
  },
  {
   "cell_type": "code",
   "execution_count": null,
   "outputs": [],
   "source": [
    "print(int_mask.shape)\n",
    "binary_mask = convert_to_binary_mask(int_mask, num_classes=train_ds.num_classes, ignore_index=train_ds.ignore_index)\n",
    "print(binary_mask.shape)"
   ],
   "metadata": {
    "collapsed": false
   },
   "id": "39ed2914c1ef87e6"
  },
  {
   "cell_type": "code",
   "execution_count": null,
   "outputs": [],
   "source": [
    "int_from_binary_mask = convert_to_integer_mask(binary_mask, ignore_index=train_ds.ignore_index)\n",
    "print(int_from_binary_mask.shape)"
   ],
   "metadata": {
    "collapsed": false
   },
   "id": "12977b7eba6f0edc"
  },
  {
   "cell_type": "code",
   "execution_count": null,
   "outputs": [],
   "source": [
    "fig, ax = plt.subplots(2, img.shape[0], figsize=(img.shape[0] * 3, 2 * 3))\n",
    "\n",
    "plot_mask = F.interpolate(int_mask.unsqueeze(1).float(), train_ds.original_shape[1:], mode='nearest')\n",
    "plot_mask = plot_mask.round().squeeze(1).long()\n",
    "plot_mask_rgb = convert_mask_to_RGB(plot_mask, train_ds.get_cmap(), ignore_index=train_ds.ignore_index)\n",
    "\n",
    "___plot_mask = F.interpolate(int_from_binary_mask.unsqueeze(1).float(), train_ds.original_shape[1:], mode='nearest')\n",
    "___plot_mask = ___plot_mask.round().squeeze(1).long()\n",
    "___plot_mask_rgb = convert_mask_to_RGB(___plot_mask, train_ds.get_cmap(), ignore_index=train_ds.ignore_index)\n",
    "for n in range(img.shape[0]):\n",
    "    ax[0, n].imshow(plot_mask_rgb[n].permute(1, 2, 0).cpu().numpy())\n",
    "    ax[0, n].axis('off')\n",
    "    ax[1, n].imshow(___plot_mask_rgb[n].permute(1, 2, 0).cpu().numpy())\n",
    "    ax[1, n].axis('off')\n",
    "plt.tight_layout()\n",
    "plt.autoscale()\n",
    "plt.show()"
   ],
   "metadata": {
    "collapsed": false
   },
   "id": "296549736729a769"
  },
  {
   "cell_type": "code",
   "execution_count": null,
   "outputs": [],
   "source": [
    "torch.equal(int_mask, int_from_binary_mask)"
   ],
   "metadata": {
    "collapsed": false
   },
   "id": "3c40328460a34d15"
  },
  {
   "cell_type": "code",
   "execution_count": null,
   "outputs": [],
   "source": [
    "print(int_mask.min())\n",
    "print(int_mask.max())\n",
    "print(int_from_binary_mask.min())\n",
    "print(int_from_binary_mask.max())"
   ],
   "metadata": {
    "collapsed": false
   },
   "id": "4febdd6fee298151"
  },
  {
   "cell_type": "code",
   "execution_count": null,
   "outputs": [],
   "source": [
    "print(torch.unique(int_mask))\n",
    "print(torch.unique(int_from_binary_mask))"
   ],
   "metadata": {
    "collapsed": true
   },
   "id": "initial_id"
  }
 ],
 "metadata": {
  "kernelspec": {
   "display_name": "Python 3",
   "language": "python",
   "name": "python3"
  },
  "language_info": {
   "codemirror_mode": {
    "name": "ipython",
    "version": 2
   },
   "file_extension": ".py",
   "mimetype": "text/x-python",
   "name": "python",
   "nbconvert_exporter": "python",
   "pygments_lexer": "ipython2",
   "version": "2.7.6"
  }
 },
 "nbformat": 4,
 "nbformat_minor": 5
}
