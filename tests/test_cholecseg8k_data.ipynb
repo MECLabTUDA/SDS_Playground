{
 "cells": [
  {
   "cell_type": "code",
   "execution_count": 1,
   "metadata": {
    "collapsed": true,
    "ExecuteTime": {
     "end_time": "2023-12-31T15:01:25.139630622Z",
     "start_time": "2023-12-31T15:01:23.899673379Z"
    }
   },
   "outputs": [],
   "source": [
    "import cv2\n",
    "import albumentations as A\n",
    "import matplotlib.pyplot as plt\n",
    "import numpy as np\n",
    "import torch.nn.functional as F\n",
    "from torch.utils.data import DataLoader, ConcatDataset\n",
    "\n",
    "from sds_playground.datasets import CholecSeg8kDataset\n",
    "from sds_playground.utils import denormalize, convert_mask_to_RGB"
   ]
  },
  {
   "cell_type": "code",
   "execution_count": 2,
   "outputs": [
    {
     "ename": "IndexError",
     "evalue": "list index out of range",
     "output_type": "error",
     "traceback": [
      "\u001B[0;31m---------------------------------------------------------------------------\u001B[0m",
      "\u001B[0;31mIndexError\u001B[0m                                Traceback (most recent call last)",
      "Cell \u001B[0;32mIn[2], line 1\u001B[0m\n\u001B[0;32m----> 1\u001B[0m train_ds \u001B[38;5;241m=\u001B[39m \u001B[43mCholecSeg8kDataset\u001B[49m\u001B[43m(\u001B[49m\n\u001B[1;32m      2\u001B[0m \u001B[43m    \u001B[49m\u001B[43mroot\u001B[49m\u001B[38;5;241;43m=\u001B[39;49m\u001B[38;5;124;43m'\u001B[39;49m\u001B[38;5;124;43m/local/scratch/CholecSeg8k/\u001B[39;49m\u001B[38;5;124;43m'\u001B[39;49m\u001B[43m,\u001B[49m\n\u001B[1;32m      3\u001B[0m \u001B[43m    \u001B[49m\u001B[43mspatial_transform\u001B[49m\u001B[38;5;241;43m=\u001B[39;49m\u001B[43mA\u001B[49m\u001B[38;5;241;43m.\u001B[39;49m\u001B[43mCompose\u001B[49m\u001B[43m(\u001B[49m\u001B[43m[\u001B[49m\n\u001B[1;32m      4\u001B[0m \u001B[43m        \u001B[49m\u001B[43mA\u001B[49m\u001B[38;5;241;43m.\u001B[39;49m\u001B[43mResize\u001B[49m\u001B[43m(\u001B[49m\u001B[38;5;241;43m256\u001B[39;49m\u001B[43m,\u001B[49m\u001B[43m \u001B[49m\u001B[38;5;241;43m256\u001B[39;49m\u001B[43m,\u001B[49m\u001B[43m \u001B[49m\u001B[43minterpolation\u001B[49m\u001B[38;5;241;43m=\u001B[39;49m\u001B[43mcv2\u001B[49m\u001B[38;5;241;43m.\u001B[39;49m\u001B[43mINTER_LINEAR\u001B[49m\u001B[43m)\u001B[49m\n\u001B[1;32m      5\u001B[0m \u001B[43m    \u001B[49m\u001B[43m]\u001B[49m\u001B[43m)\u001B[49m\u001B[43m,\u001B[49m\n\u001B[1;32m      6\u001B[0m \u001B[43m    \u001B[49m\u001B[43mimg_normalization\u001B[49m\u001B[38;5;241;43m=\u001B[39;49m\u001B[43mA\u001B[49m\u001B[38;5;241;43m.\u001B[39;49m\u001B[43mNormalize\u001B[49m\u001B[43m(\u001B[49m\u001B[38;5;241;43m.5\u001B[39;49m\u001B[43m,\u001B[49m\u001B[43m \u001B[49m\u001B[38;5;241;43m.5\u001B[39;49m\u001B[43m)\u001B[49m\u001B[43m,\u001B[49m\n\u001B[1;32m      7\u001B[0m \u001B[43m    \u001B[49m\u001B[43mmode\u001B[49m\u001B[38;5;241;43m=\u001B[39;49m\u001B[38;5;124;43m'\u001B[39;49m\u001B[38;5;124;43mtrain\u001B[39;49m\u001B[38;5;124;43m'\u001B[39;49m\n\u001B[1;32m      8\u001B[0m \u001B[43m)\u001B[49m\n\u001B[1;32m      9\u001B[0m val_ds \u001B[38;5;241m=\u001B[39m CholecSeg8kDataset(\n\u001B[1;32m     10\u001B[0m     root\u001B[38;5;241m=\u001B[39m\u001B[38;5;124m'\u001B[39m\u001B[38;5;124m/local/scratch/CholecSeg8k/\u001B[39m\u001B[38;5;124m'\u001B[39m,\n\u001B[1;32m     11\u001B[0m     spatial_transform\u001B[38;5;241m=\u001B[39mA\u001B[38;5;241m.\u001B[39mCompose([\n\u001B[0;32m   (...)\u001B[0m\n\u001B[1;32m     15\u001B[0m     mode\u001B[38;5;241m=\u001B[39m\u001B[38;5;124m'\u001B[39m\u001B[38;5;124mval\u001B[39m\u001B[38;5;124m'\u001B[39m\n\u001B[1;32m     16\u001B[0m )\n\u001B[1;32m     17\u001B[0m test_ds \u001B[38;5;241m=\u001B[39m CholecSeg8kDataset(\n\u001B[1;32m     18\u001B[0m     root\u001B[38;5;241m=\u001B[39m\u001B[38;5;124m'\u001B[39m\u001B[38;5;124m/local/scratch/CholecSeg8k/\u001B[39m\u001B[38;5;124m'\u001B[39m,\n\u001B[1;32m     19\u001B[0m     spatial_transform\u001B[38;5;241m=\u001B[39mA\u001B[38;5;241m.\u001B[39mCompose([\n\u001B[0;32m   (...)\u001B[0m\n\u001B[1;32m     23\u001B[0m     mode\u001B[38;5;241m=\u001B[39m\u001B[38;5;124m'\u001B[39m\u001B[38;5;124mtest\u001B[39m\u001B[38;5;124m'\u001B[39m\n\u001B[1;32m     24\u001B[0m )\n",
      "File \u001B[0;32m~/SegDiff/src/semdiff/data/cholecseg8k_dataset.py:213\u001B[0m, in \u001B[0;36mCholecSeg8kDataset.__init__\u001B[0;34m(self, root, spatial_transform, img_normalization, mode, sample_img, sample_mask)\u001B[0m\n\u001B[1;32m    210\u001B[0m \u001B[38;5;28;01mfor\u001B[39;00m i \u001B[38;5;129;01min\u001B[39;00m \u001B[38;5;28mrange\u001B[39m(\u001B[38;5;28mlen\u001B[39m(img_file_list)):\n\u001B[1;32m    211\u001B[0m     img_name \u001B[38;5;241m=\u001B[39m img_file_list[i]\u001B[38;5;241m.\u001B[39msplit(\u001B[38;5;124m'\u001B[39m\u001B[38;5;124m/\u001B[39m\u001B[38;5;124m'\u001B[39m)[\u001B[38;5;241m-\u001B[39m\u001B[38;5;241m2\u001B[39m:]\n\u001B[1;32m    212\u001B[0m     tmp_dict \u001B[38;5;241m=\u001B[39m {\u001B[38;5;124m'\u001B[39m\u001B[38;5;124mimg\u001B[39m\u001B[38;5;124m'\u001B[39m: img_file_list[i],\n\u001B[0;32m--> 213\u001B[0m                 \u001B[38;5;124m'\u001B[39m\u001B[38;5;124mmask\u001B[39m\u001B[38;5;124m'\u001B[39m: \u001B[43mmask_file_list\u001B[49m\u001B[43m[\u001B[49m\u001B[43mi\u001B[49m\u001B[43m]\u001B[49m,\n\u001B[1;32m    214\u001B[0m                 \u001B[38;5;124m'\u001B[39m\u001B[38;5;124mname\u001B[39m\u001B[38;5;124m'\u001B[39m: img_name}\n\u001B[1;32m    215\u001B[0m     \u001B[38;5;28mself\u001B[39m\u001B[38;5;241m.\u001B[39msample_list\u001B[38;5;241m.\u001B[39mappend(tmp_dict)\n",
      "\u001B[0;31mIndexError\u001B[0m: list index out of range"
     ]
    }
   ],
   "source": [
    "train_ds = CholecSeg8kDataset(\n",
    "    root='/local/scratch/CholecSeg8k/',\n",
    "    spatial_transform=A.Compose([\n",
    "        A.Resize(256, 256, interpolation=cv2.INTER_LINEAR)\n",
    "    ]),\n",
    "    img_normalization=A.Normalize(.5, .5),\n",
    "    mode='train'\n",
    ")\n",
    "val_ds = CholecSeg8kDataset(\n",
    "    root='/local/scratch/CholecSeg8k/',\n",
    "    spatial_transform=A.Compose([\n",
    "        A.Resize(256, 256, interpolation=cv2.INTER_LINEAR)\n",
    "    ]),\n",
    "    img_normalization=A.Normalize(.5, .5),\n",
    "    mode='val'\n",
    ")\n",
    "test_ds = CholecSeg8kDataset(\n",
    "    root='/local/scratch/CholecSeg8k/',\n",
    "    spatial_transform=A.Compose([\n",
    "        A.Resize(256, 256, interpolation=cv2.INTER_LINEAR)\n",
    "    ]),\n",
    "    img_normalization=A.Normalize(.5, .5),\n",
    "    mode='test'\n",
    ")\n",
    "dl = DataLoader(ConcatDataset([train_ds, test_ds, val_ds]), shuffle=True, batch_size=4, drop_last=True)"
   ],
   "metadata": {
    "collapsed": false,
    "ExecuteTime": {
     "end_time": "2023-12-31T15:01:29.411670006Z",
     "start_time": "2023-12-31T15:01:29.125025879Z"
    }
   }
  },
  {
   "cell_type": "code",
   "execution_count": 3,
   "outputs": [
    {
     "ename": "NameError",
     "evalue": "name 'train_ds' is not defined",
     "output_type": "error",
     "traceback": [
      "\u001B[0;31m---------------------------------------------------------------------------\u001B[0m",
      "\u001B[0;31mNameError\u001B[0m                                 Traceback (most recent call last)",
      "Cell \u001B[0;32mIn[3], line 1\u001B[0m\n\u001B[0;32m----> 1\u001B[0m \u001B[38;5;28mprint\u001B[39m(\u001B[38;5;124m\"\u001B[39m\u001B[38;5;124mTotal: \u001B[39m\u001B[38;5;124m\"\u001B[39m, \u001B[38;5;28mlen\u001B[39m(\u001B[43mtrain_ds\u001B[49m) \u001B[38;5;241m+\u001B[39m \u001B[38;5;28mlen\u001B[39m(test_ds) \u001B[38;5;241m+\u001B[39m \u001B[38;5;28mlen\u001B[39m(val_ds))\n\u001B[1;32m      2\u001B[0m \u001B[38;5;28mprint\u001B[39m(\u001B[38;5;124m\"\u001B[39m\u001B[38;5;124mTrain: \u001B[39m\u001B[38;5;124m\"\u001B[39m, \u001B[38;5;28mlen\u001B[39m(train_ds))\n\u001B[1;32m      3\u001B[0m \u001B[38;5;28mprint\u001B[39m(\u001B[38;5;124m\"\u001B[39m\u001B[38;5;124mVal: \u001B[39m\u001B[38;5;124m\"\u001B[39m, \u001B[38;5;28mlen\u001B[39m(val_ds))\n",
      "\u001B[0;31mNameError\u001B[0m: name 'train_ds' is not defined"
     ]
    }
   ],
   "source": [
    "print(\"Total: \", len(train_ds) + len(test_ds) + len(val_ds))\n",
    "print(\"Train: \", len(train_ds))\n",
    "print(\"Val: \", len(val_ds))\n",
    "print(\"Test: \", len(test_ds))"
   ],
   "metadata": {
    "collapsed": false,
    "ExecuteTime": {
     "end_time": "2023-12-31T15:01:31.744815428Z",
     "start_time": "2023-12-31T15:01:31.742050204Z"
    }
   }
  },
  {
   "cell_type": "code",
   "execution_count": null,
   "outputs": [],
   "source": [
    "img, mask, name, _, _ = next(iter(dl))"
   ],
   "metadata": {
    "collapsed": false
   }
  },
  {
   "cell_type": "code",
   "execution_count": null,
   "outputs": [],
   "source": [
    "print(f\"{img.shape=}\")\n",
    "print(f\"{mask.shape=}\")\n",
    "print(f\"{mask.min()=}\")\n",
    "print(f\"{mask.max()=}\")\n",
    "print(f\"{np.unique(mask)=}\")"
   ],
   "metadata": {
    "collapsed": false
   }
  },
  {
   "cell_type": "code",
   "execution_count": null,
   "outputs": [],
   "source": [
    "_img = F.interpolate(img, train_ds.display_shape[1:], mode='bilinear')"
   ],
   "metadata": {
    "collapsed": false
   }
  },
  {
   "cell_type": "code",
   "execution_count": null,
   "outputs": [],
   "source": [
    "_mask = convert_mask_to_RGB(mask, train_ds.get_cmap())"
   ],
   "metadata": {
    "collapsed": false
   }
  },
  {
   "cell_type": "code",
   "execution_count": null,
   "outputs": [],
   "source": [
    "_mask = F.interpolate(_mask, train_ds.display_shape[1:], mode='nearest')"
   ],
   "metadata": {
    "collapsed": false
   }
  },
  {
   "cell_type": "code",
   "execution_count": null,
   "outputs": [],
   "source": [
    "fig, ax = plt.subplots(2, img.shape[0], figsize=(img.shape[0]*5, 2*5))\n",
    "for n in range(img.shape[0]):\n",
    "    ax[0, n].imshow(denormalize(_img[n], .5, .5).permute(1, 2, 0).cpu().numpy())\n",
    "    ax[0, n].axis('off')\n",
    "    ax[1, n].imshow(_mask[n].permute(1, 2, 0).cpu().numpy())\n",
    "    ax[1, n].axis('off')\n",
    "plt.autoscale()\n",
    "plt.tight_layout()\n",
    "plt.show()"
   ],
   "metadata": {
    "collapsed": false
   }
  }
 ],
 "metadata": {
  "kernelspec": {
   "display_name": "Python 3",
   "language": "python",
   "name": "python3"
  },
  "language_info": {
   "codemirror_mode": {
    "name": "ipython",
    "version": 2
   },
   "file_extension": ".py",
   "mimetype": "text/x-python",
   "name": "python",
   "nbconvert_exporter": "python",
   "pygments_lexer": "ipython2",
   "version": "2.7.6"
  }
 },
 "nbformat": 4,
 "nbformat_minor": 0
}
